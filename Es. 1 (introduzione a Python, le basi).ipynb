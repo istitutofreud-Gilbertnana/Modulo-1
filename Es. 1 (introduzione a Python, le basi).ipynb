{
 "cells": [
  {
   "cell_type": "markdown",
   "id": "3ede7fc5",
   "metadata": {},
   "source": [
    "# LE BASI DI PYTHON"
   ]
  },
  {
   "cell_type": "code",
   "execution_count": 2,
   "id": "ea08aec0",
   "metadata": {},
   "outputs": [
    {
     "name": "stdout",
     "output_type": "stream",
     "text": [
      "Hello, World!\n"
     ]
    }
   ],
   "source": [
    "#stampa il contenuto delle parentesi\n",
    "print(\"Hello, World!\")"
   ]
  },
  {
   "cell_type": "code",
   "execution_count": 2,
   "id": "d050909e",
   "metadata": {},
   "outputs": [
    {
     "name": "stdout",
     "output_type": "stream",
     "text": [
      "Inserisci il tuo nome: Angelo\n",
      "Inserisci il tuo cognome: Raso\n",
      "Benvenuto su Jupyter Notebook Angelo Raso\n"
     ]
    }
   ],
   "source": [
    "#prende l'input e lo stampa\n",
    "nome=input(\"Inserisci il tuo nome: \")#le variabili si possono indicare come si vogliono\n",
    "cognome=input(\"Inserisci il tuo cognome: \")\n",
    "print(\"Benvenuto su Jupyter Notebook\",nome,cognome)#dentro il print ci sono due input dettati dall'utente che specificano i dati"
   ]
  },
  {
   "cell_type": "code",
   "execution_count": 4,
   "id": "e489d438",
   "metadata": {
    "scrolled": true
   },
   "outputs": [
    {
     "name": "stdout",
     "output_type": "stream",
     "text": [
      "Inserisci il tuo nome: Angelo\n",
      "Inserisci il tuo cognome: Raso\n",
      "Inserisci il numero di volte che desideri che un messaggio gentile si ripeta: 9\n",
      "Che bel nome e cognome che hai Angelo Raso è davvero molto bello\n",
      "Che bel nome e cognome che hai Angelo Raso è davvero molto bello\n",
      "Che bel nome e cognome che hai Angelo Raso è davvero molto bello\n",
      "Che bel nome e cognome che hai Angelo Raso è davvero molto bello\n",
      "Che bel nome e cognome che hai Angelo Raso è davvero molto bello\n",
      "Che bel nome e cognome che hai Angelo Raso è davvero molto bello\n",
      "Che bel nome e cognome che hai Angelo Raso è davvero molto bello\n",
      "Che bel nome e cognome che hai Angelo Raso è davvero molto bello\n",
      "Che bel nome e cognome che hai Angelo Raso è davvero molto bello\n"
     ]
    }
   ],
   "source": [
    "#ripete l'input tot volte\n",
    "nome=input(\"Inserisci il tuo nome: \")\n",
    "cognome=input(\"Inserisci il tuo cognome: \")\n",
    "numeroripetizionimessaggio=int(input(\"Inserisci il numero di volte che desideri che un messaggio gentile si ripeta: \"))\n",
    "#per tutti gli i che vanno da a numeroripetizionimessaggio \n",
    "for i in range(numeroripetizionimessaggio):\n",
    "    print(\"Che bel nome e cognome che hai\",nome,cognome,\"è davvero molto bello\") #stampiamo ..."
   ]
  },
  {
   "cell_type": "markdown",
   "id": "a280f15e",
   "metadata": {},
   "source": [
    "# ESEMPI DI CALCOLATRICE"
   ]
  },
  {
   "cell_type": "code",
   "execution_count": 4,
   "id": "5f679a2b",
   "metadata": {
    "scrolled": true
   },
   "outputs": [
    {
     "name": "stdout",
     "output_type": "stream",
     "text": [
      "Ciao, attraverso questa calcolatrice puoi eseguire calcoli con le addizioni!\n",
      "Inserisci il primo numero: 5\n",
      "Inserisci il secondo numero: 5\n",
      "La somma dei due numeri è pari a: 10\n"
     ]
    }
   ],
   "source": [
    "# somma i numeri inseriti in numero1 e numero 2 e poi li stampa\n",
    "print(\"Ciao, attraverso questa calcolatrice puoi eseguire calcoli con le addizioni!\")\n",
    "# assegna a numero 1 e numero 2 gli input interi.\n",
    "numero1=int(input(\"Inserisci il primo numero: \"))\n",
    "numero2=int(input(\"Inserisci il secondo numero: \"))\n",
    "#somma numero1 e numero2\n",
    "addizione=numero1+numero2\n",
    "# stampa risultato\n",
    "print(\"La somma dei due numeri è pari a:\",int(addizione))"
   ]
  },
  {
   "cell_type": "code",
   "execution_count": 2,
   "id": "b6efd194",
   "metadata": {},
   "outputs": [
    {
     "name": "stdout",
     "output_type": "stream",
     "text": [
      "Ciao, attraverso questa calcolatrice puoi eseguire calcoli con le sottrazioni!\n",
      "Inserisci il primo numero: 10\n",
      "Inserisci il secondo numero: 5\n",
      "La sottrazione dei due numeri è pari a: 5\n"
     ]
    }
   ],
   "source": [
    "#sottrae i numeri inseriti in numero1 e numero 2 e poi li stampa\n",
    "print(\"Ciao, attraverso questa calcolatrice puoi eseguire calcoli con le sottrazioni!\")\n",
    "#assegna a numero1 e numero2 gli input interi.\n",
    "numero1=int(input(\"Inserisci il primo numero: \"))\n",
    "numero2=int(input(\"Inserisci il secondo numero: \"))\n",
    "#sottrae numero2 da numero1\n",
    "sottrazione=numero1-numero2\n",
    "#stampa risultato\n",
    "print(\"La sottrazione dei due numeri è pari a:\",int(sottrazione))"
   ]
  },
  {
   "cell_type": "code",
   "execution_count": 5,
   "id": "6df6edcd",
   "metadata": {},
   "outputs": [
    {
     "name": "stdout",
     "output_type": "stream",
     "text": [
      "Ciao, attraverso questa calcolatrice puoi eseguire calcoli con le moltiplicazioni!\n",
      "Inserisci il primo numero: 5\n",
      "Inserisci il secondo numero: 5\n",
      "La moltiplicazione dei due numeri è pari a: 25\n"
     ]
    }
   ],
   "source": [
    "#moltiplica i numeri inseriti in numero1 e numero 2 e poi li stampa\n",
    "print(\"Ciao, attraverso questa calcolatrice puoi eseguire calcoli con le moltiplicazioni!\")\n",
    "numero1=int(input(\"Inserisci il primo numero: \"))\n",
    "numero2=int(input(\"Inserisci il secondo numero: \"))\n",
    "moltiplicazione=numero1*numero2#il simbolo * vuol dire moltiplicazione\n",
    "print(\"La moltiplicazione dei due numeri è pari a:\",int(moltiplicazione))"
   ]
  },
  {
   "cell_type": "code",
   "execution_count": 6,
   "id": "503c076e",
   "metadata": {},
   "outputs": [
    {
     "name": "stdout",
     "output_type": "stream",
     "text": [
      "Ciao, attraverso questa calcolatrice puoi eseguire calcoli con le divisioni!\n",
      "Inserisci il primo numero: 10\n",
      "Inserisci il secondo numero: 2\n",
      "La divisione dei due numeri è pari a: 5\n"
     ]
    }
   ],
   "source": [
    "#divide i numeri inseriti in numero1 e numero 2 e poi li stampa\n",
    "print(\"Ciao, attraverso questa calcolatrice puoi eseguire calcoli con le divisioni!\")\n",
    "numero1=int(input(\"Inserisci il primo numero: \"))\n",
    "numero2=int(input(\"Inserisci il secondo numero: \"))\n",
    "divisione=numero1/numero2#il simbolo / vuol dire divisione\n",
    "print(\"La divisione dei due numeri è pari a:\",int(divisione))"
   ]
  },
  {
   "cell_type": "code",
   "execution_count": 10,
   "id": "705c7eff",
   "metadata": {},
   "outputs": [
    {
     "name": "stdout",
     "output_type": "stream",
     "text": [
      "Ciao, attraverso questa calcolatrice puoi calcolare il valore di una potenza!\n",
      "Inserisci la base della potenza: 5\n",
      "Inserisci l'esponente della potenza: 2\n",
      "Il valore della potenza è pari a: 25\n"
     ]
    }
   ],
   "source": [
    "# mette come potenza di numero1 numero2\n",
    "print(\"Ciao, attraverso questa calcolatrice puoi calcolare il valore di una potenza!\")\n",
    "numero1=int(input(\"Inserisci la base della potenza: \"))\n",
    "numero2=int(input(\"Inserisci l'esponente della potenza: \"))\n",
    "potenza=numero1**numero2#il simbolo ** vuol dire potenza\n",
    "print(\"Il valore della potenza è pari a:\",int(potenza))"
   ]
  },
  {
   "cell_type": "code",
   "execution_count": 1,
   "id": "1bd4ef88",
   "metadata": {
    "scrolled": true
   },
   "outputs": [
    {
     "name": "stdout",
     "output_type": "stream",
     "text": [
      "Ciao, attraverso questa calcolatrice puoi eseguire calcoli con le addizioni, sottrazioni, moltiplicazioni e divisioni, inoltre puoi anche calcolare il valore di una potenza!\n",
      "Adesso scegli l'operazione che fa al caso tuo attraverso il correlato simbolo (+, -, *, /, **): non lo so\n",
      "Inserisci il primo numero o la base della potenza: 5\n",
      "Inserisci il secondo numero o l'esponente della potenza: 5\n",
      "Il risultato finale del calcolo è: operatore non riconosciuto. Scegli uno dei seguenti operatori riavviando prima il programma: +, -, *, /, **\n"
     ]
    }
   ],
   "source": [
    "# usa if, elif ed else per creare una calcolatrice con tutti i segni\n",
    "print(\"Ciao, attraverso questa calcolatrice puoi eseguire calcoli con le addizioni, sottrazioni, moltiplicazioni e divisioni, inoltre puoi anche calcolare il valore di una potenza!\")\n",
    "#assegna a operazione, numero1 e numero2 gli input.\n",
    "operazione=input(\"Adesso scegli l'operazione che fa al caso tuo attraverso il correlato simbolo (+, -, *, /, **): \")\n",
    "numero1=float(input(\"Inserisci il primo numero o la base della potenza: \"))\n",
    "numero2=float(input(\"Inserisci il secondo numero o l'esponente della potenza: \"))\n",
    "if operazione==\"+\":#l'if indica il primo caso possibile\n",
    "    risultato=numero1+numero2\n",
    "elif operazione==\"-\":#elif si mette dopo if nel caso tu voglia creare una catena di condizioni\n",
    "    risultato=numero1-numero2\n",
    "elif operazione==\"*\":\n",
    "    risultato=numero1*numero2\n",
    "elif operazione==\"/\":\n",
    "    risultato=numero1/numero2\n",
    "elif operazione==\"**\":\n",
    "    risultato=numero1**numero2\n",
    "else:#l'else indica l'ultimo caso possibile\n",
    "    risultato=\"operatore non riconosciuto. Scegli uno dei seguenti operatori riavviando prima il programma: +, -, *, /, **\"\n",
    "print(\"Il risultato finale del calcolo è:\",risultato)"
   ]
  },
  {
   "cell_type": "markdown",
   "id": "c6c5850f",
   "metadata": {},
   "source": [
    "# IL CICLO FOR CON N"
   ]
  },
  {
   "cell_type": "code",
   "execution_count": 2,
   "id": "ee67df12",
   "metadata": {},
   "outputs": [
    {
     "name": "stdout",
     "output_type": "stream",
     "text": [
      "Ciao, attraverso questo programma puoi verificare la numerazione ordinaria dei numeri dal e fino al punto che desideri\n",
      "Quindi, inserisci il numero positivo che desideri verificare: 33\n",
      "Poi, inserisci da quale numero positivo desideri che la numerazione inizii: 12\n",
      "12\n",
      "13\n",
      "14\n",
      "15\n",
      "16\n",
      "17\n",
      "18\n",
      "19\n",
      "20\n",
      "21\n",
      "22\n",
      "23\n",
      "24\n",
      "25\n",
      "26\n",
      "27\n",
      "28\n",
      "29\n",
      "30\n",
      "31\n",
      "32\n",
      "33\n"
     ]
    }
   ],
   "source": [
    "#usa il ciclo for per stampare tutti i numeri compresi tra n + 1 e p\n",
    "print(\"Ciao, attraverso questo programma puoi verificare la numerazione ordinaria dei numeri dal e fino al punto che desideri\")\n",
    "n=int(input(\"Quindi, inserisci il numero positivo che desideri verificare: \"))\n",
    "p=int(input(\"Poi, inserisci da quale numero positivo desideri che la numerazione inizii: \"))\n",
    "#per numero da p a n+1 stampa numero\n",
    "for numero in range(p,n+1):\n",
    "    print(numero)"
   ]
  },
  {
   "cell_type": "code",
   "execution_count": 1,
   "id": "5c84a866",
   "metadata": {},
   "outputs": [
    {
     "name": "stdout",
     "output_type": "stream",
     "text": [
      "Ciao, attraverso questo programma puoi calcolare la somma cumulativa di qualsiasi numero che desideri sapere\n",
      "Quindi, inserisci il numero positivo che desideri calcolare: 12\n",
      "La somma dei primi 12 numeri interi è 78\n",
      "Perciò la somma cumulativa di 12 è 78\n"
     ]
    }
   ],
   "source": [
    "#usa \n",
    "print(\"Ciao, attraverso questo programma puoi calcolare la somma cumulativa di qualsiasi numero che desideri sapere\")\n",
    "n=int(input(\"Quindi, inserisci il numero positivo che desideri calcolare: \"))\n",
    "addizione=0\n",
    "for numero in range(1,n+1):#1 è un valore fisso mentre +1 indica che a n verrà aggiunto il valore di uno\n",
    "    addizione+=numero#il simbolo += svolge due compiti in uno: fa la somma e riassegna il valore della variabile\n",
    "print(\"La somma dei primi\",n,\"numeri interi è\",addizione)\n",
    "print(\"Perciò la somma cumulativa di\",n,\"è\",addizione)"
   ]
  },
  {
   "cell_type": "markdown",
   "id": "4af2b7a0",
   "metadata": {},
   "source": [
    "# CALCOLARE LA MEDIA DI UNA LISTA DI NUMERI"
   ]
  },
  {
   "cell_type": "code",
   "execution_count": 1,
   "id": "7aa699b3",
   "metadata": {},
   "outputs": [
    {
     "name": "stdout",
     "output_type": "stream",
     "text": [
      "Ciao, attraverso questo programma puoi calcolare la media di una lista di numeri che desideri sapere\n",
      "Quanti numeri desideri inserire in totale? 5\n",
      "Inserisci il numero di cui desideri fare la media: 12\n",
      "Inserisci il numero di cui desideri fare la media: 33\n",
      "Inserisci il numero di cui desideri fare la media: 57\n",
      "Inserisci il numero di cui desideri fare la media: 127\n",
      "Inserisci il numero di cui desideri fare la media: 73\n",
      "La media di tutti i numeri inseriti è: 60.4\n"
     ]
    }
   ],
   "source": [
    "#Comprendere come usare i comandi sum e len facendo la media di una lista di numeri\n",
    "numeri=[]#apre una lista.\n",
    "print(\"Ciao, attraverso questo programma puoi calcolare la media di una lista di numeri che desideri sapere\")\n",
    "n=int(input(\"Quanti numeri desideri inserire in totale? \"))\n",
    "for i in range(n):\n",
    "    numero=float(input(\"Inserisci il numero di cui desideri fare la media: \"))\n",
    "    numeri.append(numero)#aggiunge l'input numero nella lista numeri\n",
    "mediadeinumeri=sum(numeri)/len(numeri)#sum si usa per sommare i numeri nella lista numeri e len conta gli elementi all' interno di numeri\n",
    "print(\"La media di tutti i numeri inseriti è:\",mediadeinumeri)"
   ]
  },
  {
   "cell_type": "markdown",
   "id": "f7e9163e",
   "metadata": {},
   "source": [
    "# IL QUADRATO DEI NUMERI"
   ]
  },
  {
   "cell_type": "code",
   "execution_count": 1,
   "id": "27ba59d3",
   "metadata": {},
   "outputs": [
    {
     "name": "stdout",
     "output_type": "stream",
     "text": [
      "Ciao, attraverso questo programma puoi calcolare il quadrato di un numero che desideri sapere\n",
      "Quindi, inserisci il numero di cui desideri sapere il quadrato: 12\n",
      "I quadrati dei primi 12 numeri sono: \n",
      "Il quadrato di 1 è 1\n",
      "Il quadrato di 2 è 4\n",
      "Il quadrato di 3 è 9\n",
      "Il quadrato di 4 è 16\n",
      "Il quadrato di 5 è 25\n",
      "Il quadrato di 6 è 36\n",
      "Il quadrato di 7 è 49\n",
      "Il quadrato di 8 è 64\n",
      "Il quadrato di 9 è 81\n",
      "Il quadrato di 10 è 100\n",
      "Il quadrato di 11 è 121\n",
      "Il quadrato di 12 è 144\n"
     ]
    }
   ],
   "source": [
    "#Comprendere come eseguire le potenze facendo il quadrato dei numeri\n",
    "print(\"Ciao, attraverso questo programma puoi calcolare il quadrato di un numero che desideri sapere\")\n",
    "n=int(input(\"Quindi, inserisci il numero di cui desideri sapere il quadrato: \"))\n",
    "print(\"I quadrati dei primi\",n,\"numeri sono: \")\n",
    "for numero in range(1,n+1):\n",
    "    quadratodelnumero=numero**2#il simbolo di potenza si fa con il doppio **\n",
    "    print(\"Il quadrato di\",numero,\"è\",quadratodelnumero)"
   ]
  },
  {
   "cell_type": "markdown",
   "id": "bf3d1446",
   "metadata": {},
   "source": [
    "# LA VERIFICA DI PARITÀ"
   ]
  },
  {
   "cell_type": "code",
   "execution_count": 2,
   "id": "c133b0f9",
   "metadata": {},
   "outputs": [
    {
     "name": "stdout",
     "output_type": "stream",
     "text": [
      "Ciao, attraverso questo programma puoi verificare se un numero è pari o dispari\n",
      "Quindi, inserisci il numero che desideri verificare: 12\n",
      "Il numero 12 è un numero pari\n"
     ]
    }
   ],
   "source": [
    "#Comprendere l'utillizo del simbolo di %\n",
    "print(\"Ciao, attraverso questo programma puoi verificare se un numero è pari o dispari\")\n",
    "numero=int(input(\"Quindi, inserisci il numero che desideri verificare: \"))\n",
    "if numero%2==0:#il simbolo di % vuol dire se è divisibile o meno un numero, ==0 vuol dire se in quel caso è con il resto di 0\n",
    "    print(\"Il numero\",numero,\"è un numero pari\")\n",
    "else:\n",
    "    print(\"Il numero\",numero,\"è un numero dispari\")"
   ]
  },
  {
   "cell_type": "markdown",
   "id": "bdf0ac66",
   "metadata": {},
   "source": [
    "# CALCOLARE IL FATTORIALE"
   ]
  },
  {
   "cell_type": "code",
   "execution_count": 1,
   "id": "83d10ea3",
   "metadata": {},
   "outputs": [
    {
     "name": "stdout",
     "output_type": "stream",
     "text": [
      "Ciao, attraverso questo programma puoi calcolare il fattoriale di qualsiasi numero che desideri sapere\n",
      "Quindi, inserisci il numero positivo che desideri calcolare: 12\n",
      "Il fattoriale del numero 12 è 479001600\n"
     ]
    }
   ],
   "source": [
    "#Comprendere l'utillizo del simbolo di *=\n",
    "print(\"Ciao, attraverso questo programma puoi calcolare il fattoriale di qualsiasi numero che desideri sapere\")\n",
    "n=int(input(\"Quindi, inserisci il numero positivo che desideri calcolare: \"))\n",
    "fattoriale=1\n",
    "for numero in range(1,n+1):\n",
    "    fattoriale*=numero#il simbolo *= svolge due compiti in uno: fa la moltiplicazione e riassegna il valore della variabile\n",
    "print(\"Il fattoriale del numero\",n,\"è\",fattoriale)"
   ]
  },
  {
   "cell_type": "markdown",
   "id": "a6568fd2",
   "metadata": {},
   "source": [
    "# IL GIOCO DELL'INDOVINELLO"
   ]
  },
  {
   "cell_type": "code",
   "execution_count": 3,
   "id": "6c9ed5d3",
   "metadata": {},
   "outputs": [
    {
     "name": "stdout",
     "output_type": "stream",
     "text": [
      "Ciao, questo gioco prevede che tu indovini un numero compreso da 1 a 100\n",
      "Adesso inserisci il numero che ritieni sia quello giusto: 10\n",
      "Ci sei quasi, ti stai avvicinando! Ti do un consiglio: il numero è più grande\n",
      "Adesso inserisci il numero che ritieni sia quello giusto: 90\n",
      "Ci sei quasi, ti stai avvicinando! Ti do un consiglio: il numero è più piccolo\n",
      "Adesso inserisci il numero che ritieni sia quello giusto: 20\n",
      "Ci sei quasi, ti stai avvicinando! Ti do un consiglio: il numero è più grande\n",
      "Adesso inserisci il numero che ritieni sia quello giusto: 80\n",
      "Ci sei quasi, ti stai avvicinando! Ti do un consiglio: il numero è più piccolo\n",
      "Adesso inserisci il numero che ritieni sia quello giusto: 30\n",
      "Ci sei quasi, ti stai avvicinando! Ti do un consiglio: il numero è più grande\n",
      "Adesso inserisci il numero che ritieni sia quello giusto: 70\n",
      "Ci sei quasi, ti stai avvicinando! Ti do un consiglio: il numero è più piccolo\n",
      "Adesso inserisci il numero che ritieni sia quello giusto: 40\n",
      "Ci sei quasi, ti stai avvicinando! Ti do un consiglio: il numero è più grande\n",
      "Adesso inserisci il numero che ritieni sia quello giusto: 60\n",
      "Ci sei quasi, ti stai avvicinando! Ti do un consiglio: il numero è più grande\n",
      "Adesso inserisci il numero che ritieni sia quello giusto: 61\n",
      "Ci sei quasi, ti stai avvicinando! Ti do un consiglio: il numero è più grande\n",
      "Adesso inserisci il numero che ritieni sia quello giusto: 62\n",
      "Ci sei quasi, ti stai avvicinando! Ti do un consiglio: il numero è più grande\n",
      "Adesso inserisci il numero che ritieni sia quello giusto: 63\n",
      "Ci sei quasi, ti stai avvicinando! Ti do un consiglio: il numero è più grande\n",
      "Adesso inserisci il numero che ritieni sia quello giusto: 64\n",
      "Ci sei quasi, ti stai avvicinando! Ti do un consiglio: il numero è più grande\n",
      "Adesso inserisci il numero che ritieni sia quello giusto: 65\n",
      "Ci sei quasi, ti stai avvicinando! Ti do un consiglio: il numero è più grande\n",
      "Adesso inserisci il numero che ritieni sia quello giusto: 67\n",
      "Ci sei quasi, ti stai avvicinando! Ti do un consiglio: il numero è più grande\n",
      "Adesso inserisci il numero che ritieni sia quello giusto: 68\n",
      "Complimenti! Sei riuscito a indovinare il numero incognito che è 68 in 15 tentativi\n"
     ]
    }
   ],
   "source": [
    "#Comprendere l'utillizzo della libreria random\n",
    "import random\n",
    "numerodaindovinare=random.randint(1,100)#random.randint vuol dire che il numero da generare è compreso da 1 a 100\n",
    "tentativi=0\n",
    "print(\"Ciao, questo gioco prevede che tu indovini un numero compreso da 1 a 100\")\n",
    "#while apre un ciclo infinito finche non gli dico di fermarsi\n",
    "while True:\n",
    "    tentativo=int(input(\"Adesso inserisci il numero che ritieni sia quello giusto: \"))\n",
    "    tentativi += 1\n",
    "    if tentativo==numerodaindovinare:\n",
    "        print(\"Complimenti! Sei riuscito a indovinare il numero incognito che è\",numerodaindovinare,\"in\",tentativi,\"tentativi\")\n",
    "        break#fa fermare il programma\n",
    "    elif tentativo<numerodaindovinare:\n",
    "        print(\"Ci sei quasi, ti stai avvicinando! Ti do un consiglio: il numero è più grande\")\n",
    "    else:\n",
    "        print(\"Ci sei quasi, ti stai avvicinando! Ti do un consiglio: il numero è più piccolo\")"
   ]
  },
  {
   "cell_type": "markdown",
   "id": "66d43e5b",
   "metadata": {},
   "source": [
    "# IL GIOCO DEL MORRA CINESE"
   ]
  },
  {
   "cell_type": "code",
   "execution_count": 1,
   "id": "a98d477b",
   "metadata": {
    "scrolled": true
   },
   "outputs": [
    {
     "name": "stdout",
     "output_type": "stream",
     "text": [
      "Ciao, questo gioco è la morra cinese quindi devi provare ad indovinare la mossa giusta e battere il computer che è l'avversario\n",
      "Puoi trovare tutto il regolamento e le strategie del gioco a questo link: https://it.wikipedia.org/wiki/Morra_cinese\n",
      "Quindi adesso scegli la tua mossa scrivendo una delle seguenti opzioni: carta, forbice o sasso: non lo so\n",
      "Il computer ha scelto la seguente mossa: forbici\n",
      "Mossa non riconosciuta. Scegli una delle seguenti mosse riavviando prima il programma: carta, forbice o sasso\n",
      "Impossibile perciò decretare un vincitore\n"
     ]
    }
   ],
   "source": [
    "#Riassunto di tutte le competenze imparate finora in questo esercizio + comprendere l'utilizzo dei comandi not in, and e or\n",
    "import random\n",
    "mosse=[\"carta\",\"forbici\",\"sasso\"]\n",
    "mossadelcomputer=random.choice(mosse)#random.choice vuol dire che il programma sceglierà casualmente un elemento tra quelli della lista, sequenza o stringa\n",
    "print(\"Ciao, questo gioco è la morra cinese quindi devi provare ad indovinare la mossa giusta e battere il computer che è l'avversario\")\n",
    "print(\"Puoi trovare tutto il regolamento e le strategie del gioco a questo link: https://it.wikipedia.org/wiki/Morra_cinese\")\n",
    "sceltadelgiocatore=input(\"Quindi adesso scegli la tua mossa scrivendo una delle seguenti opzioni: carta, forbice o sasso: \")\n",
    "print(\"Il computer ha scelto la seguente mossa:\",mossadelcomputer)\n",
    "if sceltadelgiocatore==mossadelcomputer:\n",
    "    print(\"Parità!\")\n",
    "elif (sceltadelgiocatore==\"carta\" and mossadelcomputer==\"sasso\")or(sceltadelgiocatore==\"forbici\" and mossadelcomputer==\"carta\")or(sceltadelgiocatore==\"sasso\" and mossadelcomputer==\"forbici\"):#l'and serve a comparare più cose contemporaneamente mentre l'or funge come un oppure\n",
    "    print(\"Complimenti! Hai vinto!\")\n",
    "elif sceltadelgiocatore not in mosse:#il comando not in viene utilizzato per verificare se un elemento NON è presente in una sequenza, lista o stringa\n",
    "    print(\"Mossa non riconosciuta. Scegli una delle seguenti mosse riavviando prima il programma: carta, forbice o sasso\")\n",
    "    print(\"Impossibile perciò decretare un vincitore\")\n",
    "else:\n",
    "    print(\"Peccato! Hai perso!\")"
   ]
  }
 ],
 "metadata": {
  "kernelspec": {
   "display_name": "Python 3 (ipykernel)",
   "language": "python",
   "name": "python3"
  },
  "language_info": {
   "codemirror_mode": {
    "name": "ipython",
    "version": 3
   },
   "file_extension": ".py",
   "mimetype": "text/x-python",
   "name": "python",
   "nbconvert_exporter": "python",
   "pygments_lexer": "ipython3",
   "version": "3.11.4"
  }
 },
 "nbformat": 4,
 "nbformat_minor": 5
}
