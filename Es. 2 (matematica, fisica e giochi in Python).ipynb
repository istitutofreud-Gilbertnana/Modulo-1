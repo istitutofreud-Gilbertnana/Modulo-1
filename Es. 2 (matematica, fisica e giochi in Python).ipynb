{
 "cells": [
  {
   "cell_type": "markdown",
   "id": "fdb1fba9",
   "metadata": {},
   "source": [
    "# CALCOLARE IL FATTORIALE DI UN NUMERO"
   ]
  },
  {
   "cell_type": "code",
   "execution_count": null,
   "id": "eca5f411",
   "metadata": {},
   "outputs": [],
   "source": [
    "#Chiedere all'utente di inserire un numero intero positivo\n",
    "print(\"Ciao, attraverso questo programma puoi calcolare il fattoriale di qualsiasi numero che desideri sapere\")\n",
    "numero=int(input(\"Quindi, inserisci il numero intero positivo che desideri calcolare: \"))\n",
    "fattoriale=1\n",
    "if fattoriale<0:\n",
    "    print(\"non è possibile calcolare il fattoriale di un numero negativo \")\n",
    "elif fattoriale==0:\n",
    "    print(\"il fattoriale di 0 è sempre 1\")\n",
    "else:\n",
    "    for numero in range(1,numero+1):\n",
    "        fattoriale*=numero#il simbolo *= svolge due compiti in uno: fa la somma e riassegna il valore della varia\n",
    "print(f\"Il fattoriale di {numero} è {fattoriale}\")#l'f string serve per creare per l'appunto una stringa ma senza dover chiudere tutte le volte le parentesi e le virgolette ma mettendo semplicemente delle parentesi graffe"
   ]
  },
  {
   "cell_type": "markdown",
   "id": "1f3bc148",
   "metadata": {},
   "source": [
    "# LA SOMMA DEI PRIMI N NUMERI PARI"
   ]
  },
  {
   "cell_type": "code",
   "execution_count": null,
   "id": "136e102e",
   "metadata": {},
   "outputs": [],
   "source": [
    "#Chiedere all'utente di inserire un numero intero positivo N\n",
    "print(\"Ciao, attraverso questo programma puoi calcolare la somma dei numeri pari di qualsiasi numero che desideri sapere\")\n",
    "N=int(input(\"Quindi, inserisci il numero intero positivo che desideri calcolare: \"))\n",
    "#Inizializzare la somma a zero\n",
    "somma=0\n",
    "#Calcolare la somma dei primi N numero pari\n",
    "for numero in range(2,2*N+1,2):#il primo valore è sempre 2, il secondo valore è la moltiplicazione del valore di N per 2 e aggiungendo poi 1 al risultato, il terzo valore è sempre 2.\n",
    "    somma+=numero#il simbolo += svolge due compiti in uno: fa la somma e riassegna il valore della variabile\n",
    "#Stampare la somma\n",
    "print(f\"La somma dei primi {N} numeri pari è {somma}\")"
   ]
  },
  {
   "cell_type": "markdown",
   "id": "6a43ceba",
   "metadata": {},
   "source": [
    "# CREARE UNA LISTA DEI NUMERI PARI"
   ]
  },
  {
   "cell_type": "code",
   "execution_count": null,
   "id": "beb601ae",
   "metadata": {},
   "outputs": [],
   "source": [
    "\n",
    "print(\"Ciao, attraverso questo programma puoi creare una lista dei numeri pari fino a qualsiasi numero che desideri sapere\")\n",
    "N=int(input(\"Quindi, inserisci il numero intero positivo da cui desideri creare la lista: \"))\n",
    "lista=[]\n",
    "for numero in range(2,2*N+1,2):\n",
    "    lista.append(numero)\n",
    "print(lista)"
   ]
  },
  {
   "cell_type": "markdown",
   "id": "2d6ba67c",
   "metadata": {},
   "source": [
    "# IL DADO VIRTUALE DA INDOVINARE "
   ]
  },
  {
   "cell_type": "code",
   "execution_count": null,
   "id": "aa1b12a3",
   "metadata": {},
   "outputs": [],
   "source": [
    "\n",
    "import random\n",
    "print(\"Ciao, attraverso questo programma puoi simulare il lancio di un dado, provando anche ad indovinare il numero\")\n",
    "o)\n",
    "numerodeldado=random.randint(1,6)\n",
    "#Chiedi all'utente di indovinare il numero\n",
    "indovinailnumero=int(input(\"Quindi, prova ad indovinare il numero che è uscito nel dado (da 1 a 6): \"))\n",
    "#verifica se l'utente ha indovinato corretamente\n",
    "if indovinailnumero==numerodeldado:\n",
    "    print(f\"Complimenti, hai indovinato! Infatti il numero del dado era {numerodeldado}\")\n",
    "elif indovinailnumero<1 or indovinailnumero>6:#or vuol dire oppure\n",
    "    print(\"Errore! Hai scritto un numero pari a 0 o superiore a 6, riprova con un numero compreso da 1 a 5 riavviando prima il programma\")\n",
    "else:\n",
    "    print(f\"Mi dispiace, hai perso! Il numero del dado era {numerodeldado}\")"
   ]
  },
  {
   "cell_type": "markdown",
   "id": "d1e81e50",
   "metadata": {},
   "source": [
    "# CONTEGGIO DELLE VOCALI IN UNA FRASE E CONVERSIONE DELLA FRASE IN MAIUSCOLO"
   ]
  },
  {
   "cell_type": "code",
   "execution_count": null,
   "id": "6354a93e",
   "metadata": {},
   "outputs": [],
   "source": [
    "#Chiedere all'utente di inserire una frase o una frase o una parola\n",
    "print(\"Ciao, questo programma permette di contare le vocali presenti in una frase\")\n",
    "frase=input(\"Quindi, inserisci una frase o una parola: \").lower()#converte tutto in minuscolo per semplificare il conteggio e non dover limitare l'utente a scrivere una determinata cosa\n",
    "conteggiodellevocali=0\n",
    "vocali=\"aàáâäeèéêëiìíîïoòóôöuùúûü\"\n",
    "#Iniziallizare il contatore o iteratore\n",
    "for carattere in frase:\n",
    "    if carattere in vocali:\n",
    "        conteggiodellevocali+=1\n",
    "print(f\"Nella frase/parola che hai appena scritto ci sono {conteggiodellevocali} vocali\")"
   ]
  },
  {
   "cell_type": "markdown",
   "id": "bb417887",
   "metadata": {},
   "source": [
    "# CALCOLO STATISTICO DELLA NATALITÀ"
   ]
  },
  {
   "cell_type": "code",
   "execution_count": null,
   "id": "6ec6b3ef",
   "metadata": {},
   "outputs": [],
   "source": [
    "#Iniziallizare la popolazione e gli anni\n",
    "print(\"Ciao, questo programma permette di simulare un calcolo statistico della natalità dal passato fino ad oggi attraverso dei dati matematici da inserire\")\n",
    "popolazione=int(input(\"Scrivi il numero della popolazione totale nel tuo paese in questo momento: \"))\n",
    "anni=int(input(\"Inserisci l'anno corrente: \"))\n",
    "tassodinatalita=float(input(\"Inserisci il tasso di natalità del tuo paese in questo momento: \"))#vuol dire che l'input è un float cioè un numero con la virgola (si usa il punto) e non intero come è per l'int\n",
    "tassodimortalita=float(input(\"Inserisci il tasso di mortalità del tuo paese in questo momento: \"))\n",
    "#Iniziallizare il contatore o iteratore\n",
    "for anno in range(anni):\n",
    "    nascite=(popolazione*tassodinatalita)/100\n",
    "    decessi=(popolazione*tassodimortalita)/100\n",
    "    popolazione+=(nascite-decessi)\n",
    "    print(f\"Nell'anno {anno+1} la popolazione è stata di {int(popolazione)} abitanti\")#si usa l'anno +1 così parte dall'anno dopo quello inserito dall'utente invece di quello inserito veramente dall'utente\n",
    "if nascite>decessi:\n",
    "    print(\"Dai dati statistici raccolti si può dedurre che nel corso degli anni ci sia stato un innalzamento demografico\")\n",
    "elif nascite==decessi:\n",
    "    print(\"Dai dati statistici raccolti si può dedurre che nel corso degli anni il numero dei decessi non è cambiato rispetto a quello delle nascite, quindi c'è stata una crescita zero\")\n",
    "else:\n",
    "    print(\"Dai dati statistici raccolti si può dedurre che nel corso degli anni ci sia stato un calo demografico\")\n",
    "print(\"Simulazione calcolo statistico della natalità dal passato fino ad oggi completato corretamente\")"
   ]
  },
  {
   "cell_type": "markdown",
   "id": "d911a857",
   "metadata": {},
   "source": [
    "# CALCOLO DELLA DATA GIORNALIERA"
   ]
  },
  {
   "cell_type": "code",
   "execution_count": null,
   "id": "363e3a38",
   "metadata": {},
   "outputs": [],
   "source": [
    "#Comprendere come scrivere la data usando la libreria automatica datetime\n",
    "import datetime#libreria automatica per la data\n",
    "print(\"Ciao, questo programma permette di sapere la data, l'ora, i minuti e i secondi del momento preciso che si sta vivendo\")\n",
    "print(\"Quindi:\")\n",
    "oggi=datetime.datetime.today()#serve per ottenere la data e l'ora correnti\n",
    "formattazionedata=oggi.strftime(\"%d/%m/%Y\")#formattare la data nel formato \"giorno/mese/anno\"\n",
    "formattazionetempo=oggi.strftime(\"%H:%M:%S\")#formattare l'orario nel formato \"ora:minuti:secondi\"\n",
    "print(f\"Oggi è il giorno: {formattazionedata} e sono le ore: {formattazionetempo}\")"
   ]
  },
  {
   "cell_type": "markdown",
   "id": "86d97de1",
   "metadata": {},
   "source": [
    "# IL CONVERTITORE DI UNITÀ DI MISURA UNIVERSALE"
   ]
  },
  {
   "cell_type": "code",
   "execution_count": null,
   "id": "38b5a050",
   "metadata": {},
   "outputs": [],
   "source": [
    "#Programma che permette di convertire diverse unità di misura con altre per sapere il risultato\n",
    "print(\"Ciao, benvenuto nel convertitore di unità di misura universale!\")\n",
    "scelta=input(\"Quindi adesso scrivi quale unità di misura desideri convertire? (puoi scegliere soltanto tra queste opzioni: metri/piedi/chilogrammi/libbre/centimetri/pollici): \").lower()#converte tutto in minuscolo per semplificare il conteggio e non dover limitare l'utente a scrivere una determinata cosa\n",
    "if scelta==\"metri\":#per ogni specificazione si una condizione diversa\n",
    "    valore=float(input(\"Inserisci il specifico valore in metri: \"))#vuol dire che l'input è un float cioè un numero con la virgola (si usa il punto) e non intero come è per l'int\n",
    "    risultato=valore*3.2884#risultato finale del calcolo\n",
    "    print(f\"{valore} metri corrispondono a {risultato} piedi\")\n",
    "elif scelta==\"piedi\":\n",
    "    valore=float(input(\"Inserisci il specifico valore in piedi: \"))\n",
    "    risultato=valore*3.8084\n",
    "    print(f\"{valore} piedi corrispondono a {risultato} metri\")\n",
    "elif scelta==\"chilogrammi\":\n",
    "    valore=float(input(\"Inserisci il specifico valore in chilogrammi: \"))\n",
    "    risultato=valore*2.02462\n",
    "    print(f\"{valore} chilogrammi corrispondono a {risultato} libbre\")\n",
    "elif scelta==\"libbre\":\n",
    "    valore=float(input(\"Inserisci il specifico valore in libbre: \"))\n",
    "    risultato=valore*2.20462\n",
    "    print(f\"{valore} libbre corrispondono a {risultato} chilogrammi\")\n",
    "elif scelta==\"centimetri\":\n",
    "    valore=float(input(\"Inserisci il specifico valore in centimetri: \"))\n",
    "    risultato=valore*0.39370079\n",
    "    print(f\"{valore} centimetri corrispondono a {risultato} pollici\")\n",
    "elif scelta==\"pollici\":\n",
    "    valore=float(input(\"Inserisci il specifico valore in pollici: \"))\n",
    "    risultato=valore*2.54\n",
    "    print(f\"{valore} pollici corrispondono a {risultato} centimetri\")\n",
    "else:\n",
    "    print(\"Scelta non riconosciuta. Scegli tra una delle seguenti unità di misura riavviando prima il programma: metri/piedi/chilogrammi/libbre/centimetri/pollici\")"
   ]
  },
  {
   "cell_type": "markdown",
   "id": "15590b89",
   "metadata": {},
   "source": [
    "# IL CONVERTITORE DA CELSIUS/FAHRENHEIT/KELVIN"
   ]
  },
  {
   "cell_type": "code",
   "execution_count": null,
   "id": "577844c1",
   "metadata": {},
   "outputs": [],
   "source": [
    "print(\"Ciao, benvenuto nel convertitore di unità di misura da gradi Celsius/Fahrenheit/Kelvin!\")\n",
    "sceltainiziale=input(\"Quindi adesso scrivi DA quale unità di misura desideri convertire? (puoi scegliere soltanto tra queste opzioni: Celsius/Fahrenheit/Kelvin): \").lower()\n",
    "sceltafinale=input(\"Quindi adesso scrivi IN quale unità di misura desideri convertire? (puoi scegliere soltanto tra queste opzioni: Celsius/Fahrenheit/Kelvin): \").lower()\n",
    "if sceltainiziale==\"celsius\":\n",
    "    if sceltafinale==\"fahrenheit\":\n",
    "        celsius=float(input(\"Inserisci il specifico valore in gradi Celsius: \"))\n",
    "        fahrenheit=(celsius*9/5)+32\n",
    "        print(f\"{celsius}°C corrispondono a {fahrenheit}°F\")\n",
    "    elif sceltafinale==\"kelvin\":\n",
    "        celsius=float(input(\"Inserisci il specifico valore in gradi Celsius: \"))\n",
    "        kelvin=celsius+273.15\n",
    "        print(f\"{celsius}°C corrispondono a {kelvin}K\")\n",
    "    else:\n",
    "        print(\"Scelta finale non riconosciuta. Scegli tra Celsius, Fahrenheit o Kelvin.\")\n",
    "elif sceltainiziale==\"fahrenheit\":\n",
    "    if sceltafinale==\"celsius\":\n",
    "        fahrenheit=float(input(\"Inserisci il specifico valore in gradi Fahrenheit: \"))\n",
    "        celsius=(fahrenheit-32)*5/9\n",
    "        print(f\"{fahrenheit}°F corrispondono a {celsius}°C\")\n",
    "    elif sceltafinale==\"kelvin\":\n",
    "        fahrenheit=float(input(\"Inserisci il specifico valore in gradi Fahrenheit: \"))\n",
    "        kelvin=(fahrenheit-32)*5/9+273.15\n",
    "        print(f\"{fahrenheit}°F corrispondono a {kelvin}K\")\n",
    "    else:\n",
    "        print(\"Scelta finale non riconosciuta. Scegli tra Celsius, Fahrenheit o Kelvin.\")\n",
    "elif sceltainiziale==\"kelvin\":\n",
    "    if sceltafinale==\"celsius\":\n",
    "        kelvin=float(input(\"Inserisci il specifico valore in Kelvin: \"))\n",
    "        celsius=kelvin-273.15\n",
    "        print(f\"{kelvin}K corrispondono a {celsius}°C\")\n",
    "    elif sceltafinale==\"fahrenheit\":\n",
    "        kelvin=float(input(\"Inserisci il specifico valore in Kelvin: \"))\n",
    "        fahrenheit=(kelvin-273.15)*9/5+32\n",
    "        print(f\"{kelvin}K corrispondono a {fahrenheit}°F\")\n",
    "    else:\n",
    "        print(\"Scelta finale non riconosciuta. Scegli tra Celsius, Fahrenheit o Kelvin.\")\n",
    "else:\n",
    "    print(\"Scelta iniziale non riconosciuta. Scegli tra una delle seguenti unità di misura riavviando prima il programma: Celsius, Fahrenheit o Kelvin.\")"
   ]
  },
  {
   "cell_type": "markdown",
   "id": "93d5728c",
   "metadata": {},
   "source": [
    "# L'ALGORITMO PER CAPIRE LA SEQUENZA DI FIBONACCI"
   ]
  },
  {
   "cell_type": "code",
   "execution_count": null,
   "id": "ae6f6c9a",
   "metadata": {},
   "outputs": [],
   "source": [
    "print(\"Ciao, attraverso questo programma puoi calcolare l'n-esimo numero di Fibonacci di qualsiasi numero che desideri sapere\")\n",
    "#Chiedere all'utente di inserire un numero n\n",
    "n=int(input(\"Inserisci il numero di cui desideri calcolare l'n-esimo numero di Fibonacci: \"))\n",
    "a=0\n",
    "b=1\n",
    "if n<=0:\n",
    "    print(\"Impossibile eseguire il calcolo perchè il numero deve essere maggiore di 0. Riavvia il programma per inserire un nuovo numero\")\n",
    "elif n==1:\n",
    "    risultato=0\n",
    "else:\n",
    "    #Iniziallizare il contatore o iteratore\n",
    "    for iterazione in range(n-1):\n",
    "        c=a+b\n",
    "        a=b\n",
    "        b=c\n",
    "    risultato=c\n",
    "print(f\"L'n-esimo numero di Fibonacci di {n} è {risultato}\")"
   ]
  },
  {
   "cell_type": "markdown",
   "id": "6c0eaeb8",
   "metadata": {},
   "source": [
    "# LE FUNZIONI CUSTOM"
   ]
  },
  {
   "cell_type": "code",
   "execution_count": null,
   "id": "cd98b74f",
   "metadata": {},
   "outputs": [],
   "source": [
    "def fibonacci(n):#definizione di una funzione chiamata \"fibonacci\" con un parametro \"n\" (si può chiamare come dir si voglia)\n",
    "    seriedifibonacci=[0,1]#inizializzazione della serie di Fibonacci con i primi due valori (0 e 1)\n",
    "    while len(seriedifibonacci)<n:#utilizzo di un ciclo \"while\" per generare la serie fino a raggiungere la lunghezza 'n'\n",
    "        seriedifibonacci.append(seriedifibonacci[-1]+seriedifibonacci[-2])#calcolo del prossimo valore della serie e lo si aggiunge alla lista\n",
    "    return seriedifibonacci#la funzione restituisce la serie di Fibonacci generata"
   ]
  },
  {
   "cell_type": "code",
   "execution_count": null,
   "id": "8c86ded6",
   "metadata": {},
   "outputs": [],
   "source": [
    "print(\"Ciao, attraverso questo programma puoi calcolare la sequenza di Fibonacci di qualsiasi numero che desideri sapere\")\n",
    "n=int(input(\"Quindi, inserisci il numero da cui desideri calcolare la sequenza di Fibonacci: \"))\n",
    "if n<=0:\n",
    "    n=input(\"Inserisci un numero positivo: \")\n",
    "else:\n",
    "    risultato=fibonacci(n)#calcola la sequenza di Fibonacci del numero n e assegna il risultato a \"risultato\"\n",
    "    print(f\"Essendo che il numero è {n} allora la sequenza sarà: {risultato}\")"
   ]
  },
  {
   "cell_type": "markdown",
   "id": "7d68763c",
   "metadata": {},
   "source": [
    "# IL CALCOLATORE DI AREE GEOMETRICHE"
   ]
  },
  {
   "cell_type": "code",
   "execution_count": null,
   "id": "39011dbe",
   "metadata": {},
   "outputs": [],
   "source": [
    "import math\n",
    "def calcoloareadelcerchio(raggio):#definizione della funzione\n",
    "    return math.pi*(raggio**2)\n",
    "def calcoloareatriangolo(base, altezza):#definizione della funzione\n",
    "    return base*altezza/2  \n",
    "def calcoloareadelrettangolo(base, altezza):#definizione della funzione\n",
    "    return base*altezza\n",
    "def calcolaareaquadrato(lato):\n",
    "    return lato*lato  \n",
    "print(\"Ciao, benvenuto nel calcolatore di aree geometriche!\")\n",
    "sceltaarea=input(\"Desideri calcolare l'area di un cerchio (c), del rettangolo (r), del triangolo (t) o del quadrato (q)? \")\n",
    "if sceltaarea==\"c\":\n",
    "    raggio=float(input(\"Inserisci il raggio del cerchio: \"))  \n",
    "    area=calcoloareadelcerchio(raggio)  \n",
    "    print(f\"L'area del cerchio è {area:.2f} m^2\") \n",
    "elif sceltaarea==\"r\":\n",
    "    base=float(input(\"Inserisci la base del rettangolo: \"))  \n",
    "    altezza=float(input(\"Inserisci l'altezza del rettangolo: \"))  \n",
    "    area=calcoloareadelrettangolo(base, altezza)  \n",
    "    print(f\"L'area del rettangolo è {area:.2f} m^2\")  \n",
    "elif sceltaarea==\"t\":\n",
    "    base=float(input(\"Inserisci la base del triangolo: \"))  \n",
    "    altezza=float(input(\"Inserisci l'altezza del triangolo: \"))  \n",
    "    area=calcoloareatriangolo(base, altezza)  \n",
    "    print(f\"L'area del triangolo è {area:.2f} m^2\")  \n",
    "elif sceltaarea==\"q\":\n",
    "    lato=float(input(\"Inserisci la misura del lato: \"))  \n",
    "    area=calcolaareaquadrato(lato)  \n",
    "    print(f\"L'area del quadrato è: {area:.2f} m^2\")\n",
    "else:\n",
    "    print(\"Scelta non riconosciuta. Scegli tra una delle seguenti opzioni riavviando prima il programma: cerchio (c), del rettangolo (r), del triangolo (t) o del quadrato (q)\")"
   ]
  },
  {
   "cell_type": "markdown",
   "id": "12e3bde9",
   "metadata": {},
   "source": [
    "# IL CALCOLATORE DI INTERESSI"
   ]
  },
  {
   "cell_type": "code",
   "execution_count": null,
   "id": "290ad25a",
   "metadata": {},
   "outputs": [],
   "source": [
    "def calcolainteresse(importoiniziale, tassointeresse, periodiinvestimento):\n",
    "    importofinale=importoiniziale*(1+tassointeresse/100)**periodiinvestimento\n",
    "    return importofinale\n",
    "print(\"Ciao, benvenuto nel calcolatore di interessi!\")\n",
    "importoiniziale=float(input(\"Inserisci l'importo iniziale: \"))\n",
    "tassointeresse=float(input(\"Inserisci il tasso di interesse annuale(%): \"))\n",
    "periodiinvestimento=float(input(\"Inserisci il periodo di investimento (in anni): \"))\n",
    "importofinale=calcolainteresse(importoiniziale, tassointeresse, periodiinvestimento)\n",
    "print(f\"L'importo finale è {importofinale}\")"
   ]
  },
  {
   "cell_type": "markdown",
   "id": "bc006cec",
   "metadata": {},
   "source": [
    "# IL CALCOLATORE DELLA FORZA GRAVITAZIONALE TRA PIANETI"
   ]
  },
  {
   "cell_type": "code",
   "execution_count": null,
   "id": "6767531a",
   "metadata": {},
   "outputs": [],
   "source": [
    "def forzagravitazionale(m1,m2,r):#definizione della funzione\n",
    "    #costante gravitazionale\n",
    "    G=6.67e-11\n",
    "    F=(G*m1*m2)\n",
    "    return F\n",
    "print(\"Ciao, benvenuto nel calcolatore della forza gravitazionale tra pianeti!\")\n",
    "massaterra = 5.97e24   \n",
    "massaluna = 7.34e22   \n",
    "distanzaterraluna = 384400000   \n",
    "forza=forzagravitazionale(massaterra, massaluna, distanzaterraluna)  \n",
    "print(f\"La forza gravitazionale fra Terra e Luna è: {forza} Newton\")"
   ]
  },
  {
   "cell_type": "markdown",
   "id": "990e8daa",
   "metadata": {},
   "source": [
    "# IL RISOLUTORE DI ANAGRAMMI"
   ]
  },
  {
   "cell_type": "code",
   "execution_count": null,
   "id": "b90bccae",
   "metadata": {},
   "outputs": [],
   "source": [
    "from itertools import permutations\n",
    "k=0\n",
    "\n",
    "def trovaanagrammi(parola):#definizione della funzione\n",
    "    anagrammi=[''.join(p) for p in permutations(parola)]\n",
    "    return anagrammi\n",
    "print(\"Ciao, benvenuto nel risolutore di anagrammi!\")\n",
    "parolaofrase=input(\"Inserisci la parola o la frase di cui vuoi sapere l'anagramma: \").strip().lower()\n",
    "if len(parolaofrase) < 2:\n",
    "    print(\"Inserisci una parola o una frase con almeno 2 caratteri! Per riprovare riavvia il programma\")\n",
    "else:\n",
    "    anagrammi=trovaanagrammi(parolaofrase)\n",
    "    for anagramma in anagrammi:\n",
    "        if anagramma!=parolaofrase:\n",
    "            k+=1            \n",
    "            print(anagramma)    \n",
    "    print(f\"Gli anagrammi di '{parolaofrase}' sono: '{k}'\")"
   ]
  },
  {
   "cell_type": "markdown",
   "id": "aab335ab",
   "metadata": {},
   "source": [
    "# IL RISOLUTORE DI EQUAZIONI DI PRIMO GRADO"
   ]
  },
  {
   "cell_type": "code",
   "execution_count": null,
   "id": "2cafcc4a",
   "metadata": {},
   "outputs": [],
   "source": [
    "#Programma che permette di risolvere le equazioni di primo grado inserendo il valore dei coefficenti\n",
    "def risolutoreequazionidiprimogrado():#definizione della funzione\n",
    "    while True:\n",
    "        print(\"Ciao, questo programma permette di risolvere equazioni di primo grado nella seguente formula: ax+b=0\")\n",
    "        #Chiedere l'input dei coefficienti a e b\n",
    "        a=float(input(\"Inserisci il coefficente a: \"))\n",
    "        b=float(input(\"Inserisci il coefficente b: \"))\n",
    "        #Stampare l'equazione di partenza\n",
    "        equazione=input(f\"Quindi l'equazione data è {a}x+{b}=0 ? (rispondere solo con si o no): \").lower()#converte tutto in minuscolo per semplificare il conteggio e non dover limitare l'utente a scrivere una determinata cosa\n",
    "        if equazione==\"si\":\n",
    "            print(\"Ok, allora il programma può procedere con la risoluzione dell'equazione\")\n",
    "        elif equazione!=\"no\":\n",
    "            print(\"Ok, allora adesso ripartirà automaticamente il programma da capo\")\n",
    "            continue#fa riavviare il programma da capo\n",
    "        else:\n",
    "            print(\"Risposta non riconosciuta. Ti ricordo che puoi solo rispondere con sì e no\")\n",
    "            print(\"Ok, allora adesso ripartirà automaticamente il programma da capo\")\n",
    "            continue\n",
    "        #Verificare se l'equazione è lineare (cioè diversa da zero)\n",
    "        if a==0 and b==0:#L'and serve a comparare piu cose contemporaneamente\n",
    "            print(\"L'equazione è indeterminata, infatti: 0x = 0\")\n",
    "        elif a==0:\n",
    "            print(f\"L'equazione è impossibile, infatti: 0x = {b}\")\n",
    "        else:\n",
    "            #Calcolare la soluzione di x\n",
    "            print(\"Passaggi per risolvere l'equazione: \")\n",
    "            print(f\"1) Per prima cosa sottrai {b} da entrambi i lati dell'equazione\")\n",
    "            print(f\"2) Poi bisogna fare {a}x + {b} - {b} = 0 - {b}\")\n",
    "            print(f\"3) Poi bisogna fare {a}x + {b} - {b} = 0 - {b}\")\n",
    "            #Dividere entrambi i lati per a\n",
    "            x=-b/a\n",
    "            print(f\"4) Adesso bisogna dividere entrambi i lati per {a}\")\n",
    "            print(f\"5) Poi bisogna fare x = {-b}/{a}\")\n",
    "            #Calcolare il valore di x\n",
    "            print(f\"6) Adesso bisogna calcolare il valore di x\")\n",
    "            print(f\"7) Quindi alla fine il risultato è: x = {x}\")\n",
    "        scelta=input(\"Si desidera risolvere un altra equazione? (rispondere solo con si o no): \").lower()\n",
    "        if scelta==\"si\":\n",
    "            print(\"Il programma si riavvierà tra poco\")\n",
    "            continue\n",
    "        elif scelta==\"no\":\n",
    "            print(\"Grazie per aver usato questo programma\")\n",
    "            break#fa fermare il programma\n",
    "        else:\n",
    "            print(\"Risposta non riconosciuta. Ti ricordo che puoi solo rispondere con sì e no\")\n",
    "            print(\"Grazie per aver usato questo programma\")\n",
    "            print(\"Ok, allora adesso ripartirà automaticamente il programma da capo\")\n",
    "if __name__ == \"__main__\":# Questa è una condizione che verifica se il file Python è in esecuzione come script principale\n",
    "    risolutoreequazionidiprimogrado()\n",
    "    #Il programma chiama la funzione \"risolutoreequazionidiprimogrado()\" soltanto se il file è eseguito come script principale."
   ]
  },
  {
   "cell_type": "markdown",
   "id": "ca7d759b",
   "metadata": {},
   "source": [
    "# I DIZIONARI E IL RISOLUTORE DEFINIZIONE DEI TASSI DI CAMBIO"
   ]
  },
  {
   "cell_type": "code",
   "execution_count": null,
   "id": "3858fb12",
   "metadata": {},
   "outputs": [],
   "source": [
    "#Definizione dei tassi di cambio\n",
    "tassidicambio={#definizione del dizionario\n",
    "    \"dollari\": 1.0,#key\n",
    "    \"euro\": 0.85,#key\n",
    "    \"yen\": 110.41,#key\n",
    "    \"lire italiane\": 1936.27,#key\n",
    "    \"franco svizzero\": 0.96#key\n",
    "    #Aggiungere altre valute e tassi di cambio se è necessario\n",
    "}\n",
    "print(\"Ciao, con questo programma puoi vedere il tasso giornaliero delle seguenti valute: dollari, euro, yen, lire italiane e il franco svizzero\")\n",
    "#Chiedere all'utente l'importo delle varie valute per capire il cambio\n",
    "importo=float(input(\"Inserisci l'importo che desideri convertire: \"))\n",
    "valutadipartenza=input(\"Inserisci la valuta di partenza (puoi scegliere solo: dollari, euro, yen, lire italiane e il franco svizzero): \").lower()#converte tutto in minuscolo per semplificare il conteggio e non dover limitare l'utente a scrivere una determinata cosa\n",
    "valutadidestinazione=input(\"Inserisci la valuta di destinazione (puoi scegliere solo: dollari, euro, yen, lire italiane e il franco svizzero): \").lower()\n",
    "if valutadipartenza in tassidicambio and valutadidestinazione in tassidicambio:\n",
    "    tassodicambio=tassidicambio[valutadidestinazione]/tassidicambio[valutadipartenza]#Le parentesi quadre [ ] vengono utilizzate per accedere (richiamare) a un valore in un dizionario usando una keys (chiave), nonchè \"valori\" corrispondenti all'interno del dizionario\n",
    "    importoconvertito=importo*tassodicambio\n",
    "    print(f\"{importo} {valutadipartenza} valgono e sono equivalenti a {importoconvertito:.2f} {valutadidestinazione}\")# il simbolo 2f formatta \"importoconvertito\" come un numero decimale a virgola mobile con due cifre decimali (due perchè è 2f)\n",
    "else:\n",
    "    print(\"Valuta non supportata. Puoi inserire un'altra valuta riavviando prima il programma (puoi scegliere solo: dollari, euro, yen, lire italiane e il franco svizzero)\")"
   ]
  },
  {
   "cell_type": "markdown",
   "id": "4b8ee881",
   "metadata": {},
   "source": [
    "# IL RISOLUTORE DEFINIZIONE DEI TASSI DI CAMBIO (TRAMITE UNA LIBRERIA)"
   ]
  },
  {
   "cell_type": "code",
   "execution_count": null,
   "id": "54c0b157",
   "metadata": {},
   "outputs": [],
   "source": [
    "#!pip install forex-python (installare la libreria una sola volta per il funzionamento del programma togliendo l'asterisco e eliminando il commento)\n",
    "from forex_python.converter import CurrencyRates#libreria necessaria per il programma\n",
    "print(\"Ciao, con questo programma puoi vedere il tasso giornaliero di molte valute, come l'USD, l'EUR, il GPB, ecc...\")\n",
    "def ottienitassidicambio(valutadibase):#definizione tassi di cambio\n",
    "    convertitore=CurrencyRates()#comandi della libreria\n",
    "    tassidicambio=convertitore.get_rates(valutadibase)#comandi della libreria\n",
    "    return tassidicambio#\"return\" restituisce il valore dell'espressione specificata quando la funzione viene chiamata\n",
    "if __name__ == \"__main__\":\n",
    "    valutadibase=input(\"Inserisci la valuta di base (es. USD, EUR, GBP): \").upper()#converte tutto in maiuscolo per semplificare il conteggio e non dover limitare l'utente a scrivere una determinata cosa\n",
    "    #\"try\" e \"except\" consentono esclusivamente di gestire eccezioni e errori durante l'esecuzione del codice in modo controllato \n",
    "    try:\n",
    "        tassidicambio=ottienitassidicambio(valutadibase)\n",
    "        print(f\"*** Tassi di cambio rispetto a {valutadibase} ***\")\n",
    "        for valuta, tasso in tassidicambio.items():#\"items()\" permette di ottenere sia le chiavi che i valori di un dizionario all'interno di un ciclo (coppia chiave valore)\n",
    "            print(f\"1 {valutadibase} = {tasso} {valuta}\")\n",
    "    except:\n",
    "        print(\"Valuta non valida o errore durante il recupero dei tassi di cambio. Riprova riavviando il programma e seguendo correttamente tutti i passaggi indicati a schermo\")"
   ]
  },
  {
   "cell_type": "markdown",
   "id": "c59a948a",
   "metadata": {},
   "source": [
    "# IL CONTALETTERE"
   ]
  },
  {
   "cell_type": "code",
   "execution_count": null,
   "id": "0b0d452b",
   "metadata": {},
   "outputs": [],
   "source": [
    "#Programma che permette di contare quante lettere ci sono in una frase\n",
    "print(\"Ciao, questo programma permettere di contare quante lettere ci sono in una frase\")\n",
    "#Chiedere all'utente di inserire una frase\n",
    "frase=input(\"Quindi per prima cosa inserisci la frase che desideri che sia analizzata: \").lower()#converte tutto in minuscolo per semplificare il conteggio e non dover limitare l'utente a scrivere una determinata cosa\n",
    "#Inizializzare una lista di lettere dell'alfabeto\n",
    "alfabeto=\"abcdefghijklmnopqrstuvwxyz\"\n",
    "#Inizializzare un dizionario per tenere traccia del conteggio delle lettere\n",
    "conteggiodellelettere={}\n",
    "#Iterare attraverso ciascuna lettera dell'alfabeto\n",
    "for lettera in alfabeto:\n",
    "    #Contare quante volte appare la lettera nella frase\n",
    "    conteggio=frase.count(lettera)#conta quante volte la \"lettera\" appare nella \"frase\".\n",
    "    #Aggiungere la lettera e il conteggio al dizionario se la lettera appare almeno una volta\n",
    "    if conteggio>0:\n",
    "        conteggiodellelettere[lettera]=conteggio\n",
    "#Stampare i conteggi delle singole lettere\n",
    "for lettera, conteggio in conteggiodellelettere.items():\n",
    "    print(f\"{lettera}:{conteggio}\")\n",
    "#Calcolare il numero totale di lettere\n",
    "numerototalelettere=sum(conteggiodellelettere.values())#serve a calcolare la somma dei valori all'interno del dizionario \"conteggiodellelettere\"\n",
    "#\"values()\" restituisce una vista degli valori all'interno del dizionario 'conteggiodellelettere'.\n",
    "#Stampare il conteggio totale\n",
    "print(f\"Il numero totale di lettere nella frase è {numerototalelettere}\")"
   ]
  },
  {
   "cell_type": "code",
   "execution_count": null,
   "id": "19e0835a",
   "metadata": {},
   "outputs": [],
   "source": [
    "#Comprendere il comando items\n",
    "conteggiodellelettere.items"
   ]
  },
  {
   "cell_type": "code",
   "execution_count": null,
   "id": "b89ff8ef",
   "metadata": {},
   "outputs": [],
   "source": [
    "#Comprendere il comando values\n",
    "conteggiodellelettere.values"
   ]
  },
  {
   "cell_type": "markdown",
   "id": "f6ffa9cb",
   "metadata": {},
   "source": [
    "# I FUSI ORARI"
   ]
  },
  {
   "cell_type": "code",
   "execution_count": null,
   "id": "9c340cef",
   "metadata": {},
   "outputs": [],
   "source": [
    "from datetime import datetime\n",
    "import pytz\n",
    "print(\"Ciao, benvenuto nell'orologio mondiale!\")\n",
    "cittadisponibili = {\n",
    "    \"New York\": \"America/New_York\",\n",
    "    \"Londra\": \"Europe/London\",\n",
    "    \"Tokyo\": \"Asia/Tokyo\",\n",
    "    \"Sydney\": \"Australia/Sydney\",\n",
    "    \"Rio de Janeiro\": \"America/Sao_Paulo\",\n",
    "    \"Mosca\": \"Europe/Moscow\",\n",
    "    \"Pechino\": \"Asia/Shanghai\",\n",
    "    \"Delhi\": \"Asia/Kolkata\",\n",
    "    \"Berlino\": \"Europe/Berlin\",\n",
    "    \"Città del Messico\": \"America/Mexico_City\",\n",
    "    \"Johannesburg\": \"Africa/Johannesburg\",\n",
    "    \"Dubai\": \"Asia/Dubai\",\n",
    "    \"Singapore\": \"Asia/Singapore\"\n",
    "}\n",
    "while True:\n",
    "    print(\"\\nCittà disponibili: \")#con il simbolo /n si va a capo dentro ad una stringa di testo\n",
    "    for citta in cittadisponibili.keys():\n",
    "        print(citta)\n",
    "    sceltadellacitta = input(\"\\nInserisci il nome della città per visualizzare l'ora (oppure scrivi 'esci' se desideri uscire dal programma): \").strip()\n",
    "    if sceltadellacitta.lower() == \"esci\":\n",
    "        print(\"Arrivederci, grazie per aver usato questo programma!\")\n",
    "        break\n",
    "    elif sceltadellacitta in cittadisponibili:\n",
    "        fusoorario = pytz.timezone(cittadisponibili[sceltadellacitta])\n",
    "        orariocorrente = datetime.now(fusoorario)\n",
    "        print(f\"L'ora attuale a {sceltadellacitta} è {orariocorrente.strftime('%H:%M:%S')}\\n\")\n",
    "    elif sceltadellacitta not in cittadisponibili:\n",
    "        print(\"La città inserita non è nella lista. Per favore, prova di nuovo e controlla di aver scritto bene il nome della città.\")"
   ]
  },
  {
   "cell_type": "markdown",
   "id": "8a150fa9",
   "metadata": {},
   "source": [
    "# CALCOLO PESO BMI"
   ]
  },
  {
   "cell_type": "code",
   "execution_count": null,
   "id": "c83e6e01",
   "metadata": {},
   "outputs": [],
   "source": [
    "def calcolabmi(peso, altezza):#definizione calcolo BMI\n",
    "    return peso/(altezza**2) \n",
    "def valutabmi(bmi):#definizione valutazione BMI\n",
    "    if bmi<18.5:\n",
    "        return \"sottopeso\"\n",
    "    elif 18.5<=bmi < 24.9:\n",
    "        return \"normopeso\"\n",
    "    elif 25<=bmi < 29.9:\n",
    "        return \"sovrappeso\"\n",
    "    else:\n",
    "        return \"obeso\"\n",
    "def main():#definizione main\n",
    "    print(\"Ciao, benvenuto nella calcolatrice BMI!\")\n",
    "    numeropersone=int(input(\"Per quante persone vuoi calcolare il BMI? \"))\n",
    "    for i in range(numeropersone):\n",
    "        peso=float(input(\"Inserisci il peso in chilogrammi: \"))\n",
    "        altezza=float(input(\"Inserisci l'altezza in metri: \"))\n",
    "        bmi=calcolabmi(peso, altezza)\n",
    "        valutazionefinale=valutabmi(bmi)    \n",
    "        print(f\"Il BMI è di {bmi:.2f}, sei classificato come {valutazionefinale}. \") \n",
    "if __name__ == \"__main__\":\n",
    "    main()"
   ]
  },
  {
   "cell_type": "markdown",
   "id": "86458889",
   "metadata": {},
   "source": [
    "# LA FUNZIONE MAIN"
   ]
  },
  {
   "cell_type": "code",
   "execution_count": null,
   "id": "98e4062e",
   "metadata": {},
   "outputs": [],
   "source": [
    "#Funzione principale che può avere qualsiasi nome (nome base: main)\n",
    "def Matteo():#definisco Matteo\n",
    "    print(\"Prova della funzione main, che ho chiamato in questo caso Matteo perchè posso chiamarla in qualsiasi modo\")\n",
    "    prova=(input(\"Prova a scrivere qualcosa dentro questa casella: \"))\n",
    "    print(f\"Vedi che va perchè infatti tu hai scritto: {prova}\")\n",
    "    print(\"Quindi abbiamo visto che la funzione Matteo funziona perchè ha richiamato tutto il codice del programma\")\n",
    "if __name__==\"__main__\":\n",
    "    Matteo()\n",
    "#Il programma chiama la funzione \"Matteo()\" soltanto se il file è eseguito come script principale."
   ]
  },
  {
   "cell_type": "markdown",
   "id": "66c5af77",
   "metadata": {},
   "source": [
    "# IL CONVERTITORE DI UNITÀ DI MISURA UNIVERSALE (CON LA FUNZIONE MAIN)"
   ]
  },
  {
   "cell_type": "code",
   "execution_count": null,
   "id": "3731268e",
   "metadata": {},
   "outputs": [],
   "source": [
    "#Programma che permette di convertire diverse unità di misura con altre per sapere il risultato (con la funzione main)\n",
    "def dametriapiedi(metri):\n",
    "    return metri*3.28084\n",
    "def dapiediametri(piedi):\n",
    "    return piedi/3.28084\n",
    "def dachilogrammialibbre(chilogrammi):\n",
    "    return chilogrammi*2.20462\n",
    "def dalibbreachilogrammi(libbre):\n",
    "    return libbre/2.2046\n",
    "def selezione(scelta):\n",
    "    if scelta==\"metri\":\n",
    "        valore=float(input(\"Inserisci il specifico valore in metri: \"))\n",
    "        risultato=dametriapiedi(valore)\n",
    "        print(f\"{valore:.3f} metri corrispondono a {risultato:.3f} piedi\")\n",
    "    elif scelta==\"piedi\":\n",
    "        valore=float(input(\"Inserisci il specifico valore in piedi: \"))\n",
    "        risultato=dapiediametri(valore)\n",
    "        print(f\"{valore} piedi corrispondono a {risultato} metri\")\n",
    "    elif scelta==\"chilogrammi\":\n",
    "        valore=float(input(\"Inserisci il specifico valore in chilogrammi: \"))\n",
    "        risultato=dachilogrammialibbre(valore)\n",
    "        print(f\"{valore} chilogrammi corrispondono a {risultato} libbre\")\n",
    "    elif scelta==\"libbre\":\n",
    "        valore=float(input(\"Inserisci il specifico valore in libbre: \"))\n",
    "        risultato=dalibbreachilogrammi(valore)\n",
    "        print(f\"{valore} libbre corrispondono a {risultato} chilogrammi\")\n",
    "    else:\n",
    "        print(\"Scelta non riconosciuta. Scegli tra una delle seguenti unità di misura riavviando prima il programma: metri/piedi/chilogrammi/libbre/centimetri/pollici\")\n",
    "def main():\n",
    "    print(\"Ciao, benvenuto nel convertitore di unità di misura universale!\")\n",
    "    scelta=input(\"Quindi adesso scrivi quale unità di misura desideri convertire? (puoi scegliere soltanto tra queste opzioni: metri/piedi/chilogrammi/libbre/centimetri/pollici): \").lower()#converte tutto in minuscolo per semplificare il conteggio e non dover limitare l'utente a scrivere una determinata cosa\n",
    "    selezione(scelta)\n",
    "if __name__ == \"__main__\":\n",
    "    main()"
   ]
  },
  {
   "cell_type": "markdown",
   "id": "d8f6ae20",
   "metadata": {},
   "source": [
    "# IL CALCOLO DELLA CALORIE"
   ]
  },
  {
   "cell_type": "code",
   "execution_count": null,
   "id": "d5eaff70",
   "metadata": {},
   "outputs": [],
   "source": [
    "cibo_calorie = {\n",
    "    \"pizza\": 285,\n",
    "    \"hamburger\": 250,\n",
    "    \"insalata\": 100,\n",
    "    \"yougurt\" : 150,\n",
    "}\n",
    "def calorie_consumate(cibo, quantita):\n",
    "    if cibo not in cibo_calorie.keys():\n",
    "        print(\"Cibo non presente.\")\n",
    "        \n",
    "    elif cibo in cibo_calorie.keys():\n",
    "        calorie_per_100g = cibo_calorie[cibo]\n",
    "        calorie_totali = (calorie_per_100g / 100) * quantita\n",
    "        return calorie_totali\n",
    "        \n",
    "def main():\n",
    "    cibo_consumato = []  \n",
    "    while True:  \n",
    "        print(\"Menu: \")\n",
    "        print(\"1. Aggiungi cibo consumato\")\n",
    "        print(\"2. Calcola calorie totali\")\n",
    "        print(\"3. Esci\")\n",
    "        scelta = input(\"Scegli una opzione: \")\n",
    "        if scelta == \"1\":\n",
    "            print(\"\\nEcco l'elenco di cibi disponibili:\")\n",
    "            for key, value in cibo_calorie.items():\n",
    "                print(key, value)\n",
    "            cibo = input(\"Inserisci il cibo consumato: \").lower()\n",
    "            quantita = float(input(\"Inserisci la quantita in grammi: \"))\n",
    "            cibo_consumato.append((cibo, quantita))\n",
    "        elif scelta == \"2\":\n",
    "            calorie_totali = sum(calorie_consumate(cibo, quantita) for cibo, quantita in cibo_consumato)\n",
    "            print(f\"Hai consumato un totale di {calorie_totali} calorie.\")\n",
    "        elif scelta == \"3\":\n",
    "            print(\"Arrivederci!\")\n",
    "            break\n",
    "        else:\n",
    "            print(\"Scelta non valida. Riprova.\")\n",
    "if __name__ == \"__main__\":\n",
    "    main()"
   ]
  },
  {
   "cell_type": "markdown",
   "id": "d423a0a5",
   "metadata": {},
   "source": [
    "# GENERATORE DI PERSONAGGI FANTASY"
   ]
  },
  {
   "cell_type": "code",
   "execution_count": 6,
   "id": "db7ce26f",
   "metadata": {
    "scrolled": false
   },
   "outputs": [
    {
     "name": "stdout",
     "output_type": "stream",
     "text": [
      "Personaggio fantasy generato: \n",
      "Specie: Umano\n",
      "Classe: Ladro\n",
      "Arma: Arco\n",
      "Abilità: Forza\n"
     ]
    }
   ],
   "source": [
    "import random\n",
    "speci=[\"Umano\", \"Elfo\", \"Nano\", \"Orco\"]\n",
    "classi=[\"Guerriero\", \"Mago\", \"Ladro\", \"Chierico\"]\n",
    "armi=[\"Spada\", \"Arco\", \"Bastone\", \"Pugnale\"]\n",
    "abilita=[\"Fuoco\", \"Gelo\", \"Cura\", \"Invisibilità\", \"Forza\", \"Velocità\"]\n",
    "\n",
    "\n",
    "specie=random.choice(speci)\n",
    "classe=random.choice(classi)\n",
    "arma=random.choice(armi)\n",
    "abilita_scelte = random.sample(abilita, random.randint(1, 3))\n",
    "\n",
    "\n",
    "print(\"Personaggio fantasy generato: \")\n",
    "print(f\"Specie: {specie}\")\n",
    "print(f\"Classe: {classe}\")\n",
    "print(f\"Arma: {arma}\")\n",
    "print(f\"Abilità: {', '.join(abilita_scelte)}\")"
   ]
  },
  {
   "cell_type": "code",
   "execution_count": 7,
   "id": "e6007d79",
   "metadata": {},
   "outputs": [
    {
     "name": "stdout",
     "output_type": "stream",
     "text": [
      "Personaggio fantasy generato: \n",
      "Inserisci il nome del personaggio: giampiero\n",
      "Nome: giampiero\n",
      "Aspetto fisico: Capelli neri\n",
      "Aspetto personale: Timido\n",
      "Sfondo: Contadino\n",
      "Motivazione: Ricchezza\n"
     ]
    }
   ],
   "source": [
    "import random\n",
    "\n",
    "physical_traits=[\"Capelli neri\", \"Capelli biondi\", \"Occhi azzurri\", \"Alto\", \"Basso\", \"Barba lunga\"]\n",
    "personality_traits=[\"Gentile\", \"Arrogante\", \"Timido\", \"Audace\", \"Curioso\"]\n",
    "backgrounds=[\"Contadino\", \"Nobile\", \"Guerriero\", \"Mercante\", \"Mago\"]\n",
    "motivations=[\"Vendetta\", \"Ricchezza\", \"Potere\", \"Amore\", \"Scoperta\"]\n",
    "\n",
    "def genera_personaggio():\n",
    "    nome=input(\"Inserisci il nome del personaggio: \")\n",
    "    aspetto_fisico=random.choice(physical_traits)\n",
    "    aspetto_personale=random.choice(personality_traits)\n",
    "    sfondo=random.choice(backgrounds)\n",
    "    motivazione=random.choice(motivations)\n",
    "\n",
    "    descrizione=(\n",
    "        f\"Nome: {nome}\\n\"\n",
    "        f\"Aspetto fisico: {aspetto_fisico}\\n\"\n",
    "        f\"Aspetto personale: {aspetto_personale}\\n\"\n",
    "        f\"Sfondo: {sfondo}\\n\"\n",
    "        f\"Motivazione: {motivazione}\"\n",
    "    )\n",
    "    return descrizione\n",
    "print(\"Personaggio fantasy generato: \")\n",
    "print(genera_personaggio())"
   ]
  },
  {
   "cell_type": "code",
   "execution_count": null,
   "id": "c61fcb00",
   "metadata": {},
   "outputs": [],
   "source": []
  }
 ],
 "metadata": {
  "kernelspec": {
   "display_name": "Python 3 (ipykernel)",
   "language": "python",
   "name": "python3"
  },
  "language_info": {
   "codemirror_mode": {
    "name": "ipython",
    "version": 3
   },
   "file_extension": ".py",
   "mimetype": "text/x-python",
   "name": "python",
   "nbconvert_exporter": "python",
   "pygments_lexer": "ipython3",
   "version": "3.11.4"
  }
 },
 "nbformat": 4,
 "nbformat_minor": 5
}
